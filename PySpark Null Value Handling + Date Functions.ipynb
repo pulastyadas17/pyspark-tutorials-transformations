{
 "cells": [
  {
   "cell_type": "code",
   "execution_count": 0,
   "metadata": {
    "application/vnd.databricks.v1+cell": {
     "cellMetadata": {
      "byteLimit": 2048000,
      "rowLimit": 10000
     },
     "inputWidgets": {},
     "nuid": "c81d5a06-257a-49e7-a434-d4f3bc1b81ae",
     "showTitle": false,
     "title": ""
    }
   },
   "outputs": [
    {
     "output_type": "display_data",
     "data": {
      "text/html": [
       "\n",
       "            <div>\n",
       "                <p><b>SparkSession - hive</b></p>\n",
       "                \n",
       "        <div>\n",
       "            <p><b>SparkContext</b></p>\n",
       "\n",
       "            <p><a href=\"/?o=2593997919338265#setting/sparkui/0919-035919-yk526vac/driver-1523601930953395808\">Spark UI</a></p>\n",
       "\n",
       "            <dl>\n",
       "              <dt>Version</dt>\n",
       "                <dd><code>v3.3.2</code></dd>\n",
       "              <dt>Master</dt>\n",
       "                <dd><code>local[8]</code></dd>\n",
       "              <dt>AppName</dt>\n",
       "                <dd><code>Databricks Shell</code></dd>\n",
       "            </dl>\n",
       "        </div>\n",
       "        \n",
       "            </div>\n",
       "        "
      ]
     },
     "metadata": {
      "application/vnd.databricks.v1+output": {
       "addedWidgets": {},
       "arguments": {},
       "data": "\n            <div>\n                <p><b>SparkSession - hive</b></p>\n                \n        <div>\n            <p><b>SparkContext</b></p>\n\n            <p><a href=\"/?o=2593997919338265#setting/sparkui/0919-035919-yk526vac/driver-1523601930953395808\">Spark UI</a></p>\n\n            <dl>\n              <dt>Version</dt>\n                <dd><code>v3.3.2</code></dd>\n              <dt>Master</dt>\n                <dd><code>local[8]</code></dd>\n              <dt>AppName</dt>\n                <dd><code>Databricks Shell</code></dd>\n            </dl>\n        </div>\n        \n            </div>\n        ",
       "datasetInfos": [],
       "metadata": {},
       "removedWidgets": [],
       "textData": null,
       "type": "htmlSandbox"
      }
     },
     "output_type": "display_data"
    }
   ],
   "source": [
    "from pyspark.sql.functions import *\n",
    "from pyspark.sql.types import *\n",
    "from pyspark.sql.window import Window\n",
    "from pyspark.sql import SparkSession\n",
    "spark=SparkSession.builder.appName(\"Test\").master(\"local[*]\").getOrCreate()\n",
    "spark"
   ]
  },
  {
   "cell_type": "code",
   "execution_count": 0,
   "metadata": {
    "application/vnd.databricks.v1+cell": {
     "cellMetadata": {
      "byteLimit": 2048000,
      "rowLimit": 10000
     },
     "inputWidgets": {},
     "nuid": "daf5634e-f846-4377-9e13-f9f3041a0ce3",
     "showTitle": false,
     "title": ""
    }
   },
   "outputs": [
    {
     "output_type": "stream",
     "name": "stdout",
     "output_type": "stream",
     "text": [
      "+---+----+----------+\n| id|name|      date|\n+---+----+----------+\n|  1|   A|17-01-2023|\n|  2|   B|28-09-2021|\n|  3|   C|05-12-2016|\n|  4|   D|      null|\n+---+----+----------+\n\nroot\n |-- id: long (nullable = true)\n |-- name: string (nullable = true)\n |-- date: string (nullable = true)\n\n"
     ]
    }
   ],
   "source": [
    "data=[[1,'A','17-01-2023'],\n",
    "      [2,'B','28-09-2021'],\n",
    "      [3,'C','05-12-2016'],\n",
    "      [4,'D',None]]\n",
    "schema=['id','name','date']\n",
    "df=spark.createDataFrame(data=data,schema=schema)\n",
    "df.show()\n",
    "df.printSchema()"
   ]
  },
  {
   "cell_type": "code",
   "execution_count": 0,
   "metadata": {
    "application/vnd.databricks.v1+cell": {
     "cellMetadata": {
      "byteLimit": 2048000,
      "rowLimit": 10000
     },
     "inputWidgets": {},
     "nuid": "4ad5ad70-d8f6-4080-a576-6a17f989ddcd",
     "showTitle": false,
     "title": ""
    }
   },
   "outputs": [
    {
     "output_type": "stream",
     "name": "stdout",
     "output_type": "stream",
     "text": [
      "+---+----+----------+\n| id|name|      date|\n+---+----+----------+\n|  1|   A|2023-01-17|\n|  2|   B|2021-09-28|\n|  3|   C|2016-12-05|\n|  4|   D|      null|\n+---+----+----------+\n\nroot\n |-- id: long (nullable = true)\n |-- name: string (nullable = true)\n |-- date: date (nullable = true)\n\n"
     ]
    }
   ],
   "source": [
    "df_date=df.withColumn('date',to_date(col('date'),'dd-MM-yyyy'))\n",
    "df_date.show()\n",
    "df_date.printSchema()"
   ]
  },
  {
   "cell_type": "code",
   "execution_count": 0,
   "metadata": {
    "application/vnd.databricks.v1+cell": {
     "cellMetadata": {
      "byteLimit": 2048000,
      "rowLimit": 10000
     },
     "inputWidgets": {},
     "nuid": "62f2ba91-dcc5-41a1-8d63-9c1600b56885",
     "showTitle": false,
     "title": ""
    }
   },
   "outputs": [
    {
     "output_type": "stream",
     "name": "stdout",
     "output_type": "stream",
     "text": [
      "+---+----+----------+\n| id|name|      date|\n+---+----+----------+\n|  1|   A|2023-01-17|\n|  2|   B|2021-09-28|\n|  3|   C|2016-12-05|\n|  4|   D|2024-09-19|\n+---+----+----------+\n\n"
     ]
    }
   ],
   "source": [
    "df_date2=df_date.withColumn(\n",
    "    'date',when(col('date').isNull(),current_date())\\\n",
    "    .otherwise(col('date'))\n",
    ")\n",
    "df_date2.show()"
   ]
  },
  {
   "cell_type": "code",
   "execution_count": 0,
   "metadata": {
    "application/vnd.databricks.v1+cell": {
     "cellMetadata": {},
     "inputWidgets": {},
     "nuid": "ebf33e3a-381d-4ff7-be28-39a22eb4ff3c",
     "showTitle": false,
     "title": ""
    }
   },
   "outputs": [],
   "source": [
    "df_date2"
   ]
  },
  {
   "cell_type": "code",
   "execution_count": 0,
   "metadata": {
    "application/vnd.databricks.v1+cell": {
     "cellMetadata": {
      "byteLimit": 2048000,
      "rowLimit": 10000
     },
     "inputWidgets": {},
     "nuid": "b6097672-547d-494a-b8a5-9b129d2c3f1b",
     "showTitle": false,
     "title": ""
    }
   },
   "outputs": [
    {
     "output_type": "stream",
     "name": "stdout",
     "output_type": "stream",
     "text": [
      "+---+----+----------+\n| id|name|      date|\n+---+----+----------+\n|  1|   A|2023-01-17|\n|  2|   B|2021-09-28|\n|  3|   C|2016-12-05|\n+---+----+----------+\n\n"
     ]
    }
   ],
   "source": [
    "df_date_cleaned=df_date.dropna()\n",
    "df_date_cleaned.show()"
   ]
  },
  {
   "cell_type": "code",
   "execution_count": 0,
   "metadata": {
    "application/vnd.databricks.v1+cell": {
     "cellMetadata": {
      "byteLimit": 2048000,
      "rowLimit": 10000
     },
     "inputWidgets": {},
     "nuid": "3905ec0f-8979-44b3-9e7b-ce701e515d10",
     "showTitle": false,
     "title": ""
    }
   },
   "outputs": [
    {
     "output_type": "stream",
     "name": "stdout",
     "output_type": "stream",
     "text": [
      "+---+----+----------+-----------------------+\n|id |name|date      |WithTimestamp          |\n+---+----+----------+-----------------------+\n|1  |A   |2023-01-17|2024-09-19 05:46:23.647|\n|2  |B   |2021-09-28|2024-09-19 05:46:23.647|\n|3  |C   |2016-12-05|2024-09-19 05:46:23.647|\n+---+----+----------+-----------------------+\n\n+----------------+\n|weekofyear(date)|\n+----------------+\n|               3|\n|              39|\n|              49|\n+----------------+\n\n+----------------------+\n|next_day(date, Sunday)|\n+----------------------+\n|            2023-01-22|\n|            2021-10-03|\n|            2016-12-11|\n+----------------------+\n\n"
     ]
    }
   ],
   "source": [
    "df_date_cleaned2=df_date_cleaned.withColumn(\"WithTimestamp\",current_timestamp())\n",
    "df_date_cleaned2.show(truncate=False)\n",
    "\n",
    "df_date_cleaned2.select(weekofyear(col('date'))).show()\n",
    "df_date_cleaned2.select(next_day(col('date'),'Sunday')).show()"
   ]
  },
  {
   "cell_type": "code",
   "execution_count": 0,
   "metadata": {
    "application/vnd.databricks.v1+cell": {
     "cellMetadata": {
      "byteLimit": 2048000,
      "rowLimit": 10000
     },
     "inputWidgets": {},
     "nuid": "c04fb66e-343d-406c-a379-503cdfdb7d4e",
     "showTitle": false,
     "title": ""
    }
   },
   "outputs": [
    {
     "output_type": "stream",
     "name": "stdout",
     "output_type": "stream",
     "text": [
      "+-------------------+\n|hour(WithTimestamp)|\n+-------------------+\n|                  5|\n|                  5|\n|                  5|\n+-------------------+\n\n+---------------------+\n|minute(WithTimestamp)|\n+---------------------+\n|                   55|\n|                   55|\n|                   55|\n+---------------------+\n\n+---------------------+\n|second(WithTimestamp)|\n+---------------------+\n|                   26|\n|                   26|\n|                   26|\n+---------------------+\n\n"
     ]
    }
   ],
   "source": [
    "df_date_cleaned2.select(hour(col('WithTimestamp'))).show()\n",
    "df_date_cleaned2.select(minute(col('WithTimestamp'))).show()\n",
    "df_date_cleaned2.select(second(col('WithTimestamp'))).show()"
   ]
  },
  {
   "cell_type": "code",
   "execution_count": 0,
   "metadata": {
    "application/vnd.databricks.v1+cell": {
     "cellMetadata": {
      "byteLimit": 2048000,
      "rowLimit": 10000
     },
     "inputWidgets": {},
     "nuid": "bb7aec2e-d062-4c42-9085-6cfff6d047c8",
     "showTitle": false,
     "title": ""
    }
   },
   "outputs": [
    {
     "output_type": "stream",
     "name": "stdout",
     "output_type": "stream",
     "text": [
      "+---+----+----------+---------+\n| id|name|      date|Days_Diff|\n+---+----+----------+---------+\n|  1|   A|2023-01-17|      611|\n|  2|   B|2021-09-28|     1087|\n|  3|   C|2016-12-05|     2845|\n|  4|   D|2024-09-19|        0|\n+---+----+----------+---------+\n\n+---+----+----------+-----------+\n| id|name|      date|Months_Diff|\n+---+----+----------+-----------+\n|  1|   A|2023-01-17|20.06451613|\n|  2|   B|2021-09-28|35.70967742|\n|  3|   C|2016-12-05| 93.4516129|\n|  4|   D|2024-09-19|        0.0|\n+---+----+----------+-----------+\n\n+---+----+----------+------------------+\n| id|name|      date|        Years_Diff|\n+---+----+----------+------------------+\n|  1|   A|2023-01-17|1.6720430108333335|\n|  2|   B|2021-09-28|2.9758064516666667|\n|  3|   C|2016-12-05| 7.787634408333333|\n|  4|   D|2024-09-19|               0.0|\n+---+----+----------+------------------+\n\n"
     ]
    }
   ],
   "source": [
    "df_date3=df_date2.withColumn('Days_Diff',datediff(current_date(),col('date')))\n",
    "df_date4=df_date2.withColumn('Months_Diff',months_between(current_date(),col('date')))\n",
    "df_date5=df_date2.withColumn('Years_Diff',months_between(current_date(),col('date'))/12)\n",
    "df_date3.show()\n",
    "df_date4.show()\n",
    "df_date5.show()"
   ]
  },
  {
   "cell_type": "code",
   "execution_count": 0,
   "metadata": {
    "application/vnd.databricks.v1+cell": {
     "cellMetadata": {
      "byteLimit": 2048000,
      "rowLimit": 10000
     },
     "inputWidgets": {},
     "nuid": "527229cd-8aed-4df6-8c90-67adb5250585",
     "showTitle": false,
     "title": ""
    }
   },
   "outputs": [
    {
     "output_type": "stream",
     "name": "stdout",
     "output_type": "stream",
     "text": [
      "+----------+-----+------+----+\n|date      |Years|Months|Days|\n+----------+-----+------+----+\n|2023-01-17|1    |8     |6   |\n|2021-09-28|3    |0     |8   |\n|2016-12-05|8    |2     |135 |\n+----------+-----+------+----+\n\n+---+----+----------+----------+-----+------+----+\n| id|name|      date|Today_date|Years|Months|Days|\n+---+----+----------+----------+-----+------+----+\n|  1|   A|2023-01-17|2024-09-19|    1|     8|   6|\n|  2|   B|2021-09-28|2024-09-19|    3|     0|   8|\n|  3|   C|2016-12-05|2024-09-19|    8|     6|  15|\n+---+----+----------+----------+-----+------+----+\n\n"
     ]
    }
   ],
   "source": [
    "df_date_cleaned_curr_date=df_date_cleaned.withColumn('Today_date',current_date())\n",
    "df_date01=df_date_cleaned_curr_date.withColumn('Years',year(current_date())-year(col('date')))\n",
    "\n",
    "# Difference in months,ignoring full years (using modulo 12 to get remaining months)\n",
    "df_date02=df_date01.withColumn('Months',expr(\n",
    "        \"abs(months_between(current_date(),date_add(date,Years*365))%12)\"\n",
    "    ).cast('int')\n",
    ")\n",
    "\n",
    "# Difference in days(remaining days after subtracting years and months)\n",
    "df_date03=df_date02.withColumn('Days', \n",
    "    expr(\n",
    "        \"abs(datediff(current_date(),date_add(date_add(date,Years *365),Months*30)))\"\n",
    "    )\n",
    ")\n",
    "\n",
    "df_date03.select('date','Years','Months','Days').show(truncate=False)\n",
    "df_date03_final=df_date03.withColumn('Months',expr(\"floor(Days/30)+Months\"))\\\n",
    "                         .withColumn('Days',expr(\"floor(Days%30)\"))\n",
    "df_date03_final.show()"
   ]
  },
  {
   "cell_type": "code",
   "execution_count": 0,
   "metadata": {
    "application/vnd.databricks.v1+cell": {
     "cellMetadata": {
      "byteLimit": 2048000,
      "rowLimit": 10000
     },
     "inputWidgets": {},
     "nuid": "8ac3769c-2683-49c4-9ef2-b37bcb85029f",
     "showTitle": false,
     "title": ""
    }
   },
   "outputs": [
    {
     "output_type": "stream",
     "name": "stdout",
     "output_type": "stream",
     "text": [
      "+---+----+----------+----------+-----+------+----+---------+\n| id|name|      date|Today_date|Years|Months|Days|    Exact|\n+---+----+----------+----------+-----+------+----+---------+\n|  1|   A|2023-01-17|2024-09-19|    1|     8|   6| 1Y_8M_6D|\n|  2|   B|2021-09-28|2024-09-19|    3|     0|   8| 3Y_0M_8D|\n|  3|   C|2016-12-05|2024-09-19|    8|     6|  15|8Y_6M_15D|\n+---+----+----------+----------+-----+------+----+---------+\n\n+--------------+\n|DayOfThatMonth|\n+--------------+\n|            17|\n|            28|\n|             5|\n+--------------+\n\n"
     ]
    }
   ],
   "source": [
    "df_date04=df_date03_final.withColumn(\"Exact\",concat(col('Years'),lit('Y_'),col('Months'),lit('M_'),col('Days'),lit('D')))\n",
    "df_date04.show()\n",
    "df_date04.select(dayofmonth(col('date')).alias('DayOfThatMonth')).show()"
   ]
  },
  {
   "cell_type": "code",
   "execution_count": 0,
   "metadata": {
    "application/vnd.databricks.v1+cell": {
     "cellMetadata": {
      "byteLimit": 2048000,
      "rowLimit": 10000
     },
     "inputWidgets": {},
     "nuid": "170cf37c-6281-4e6e-984d-b5ab8a3c0d61",
     "showTitle": false,
     "title": ""
    }
   },
   "outputs": [
    {
     "output_type": "stream",
     "name": "stdout",
     "output_type": "stream",
     "text": [
      "+---+----+\n| id|name|\n+---+----+\n|  1|   A|\n|  2|   B|\n+---+----+\n\n"
     ]
    }
   ],
   "source": [
    "#Filter between a year range\n",
    "df_filter=df_date04.where(\n",
    "    (year(col('date')) >= 2021) & (year(col('date')) <= 2023)\n",
    ")\n",
    "df_filter.select('id','name').show()\n",
    "\n",
    "#year(col('date')): Extracts the year from the date column\n",
    "#Condition: The conditions (year(col('date')) >= 2021) and (year(col('date')) <= 2023) are combined with &"
   ]
  },
  {
   "cell_type": "code",
   "execution_count": 0,
   "metadata": {
    "application/vnd.databricks.v1+cell": {
     "cellMetadata": {
      "byteLimit": 2048000,
      "rowLimit": 10000
     },
     "inputWidgets": {},
     "nuid": "7f112d4d-21df-4ff4-be52-541f2c2312ae",
     "showTitle": false,
     "title": ""
    }
   },
   "outputs": [
    {
     "output_type": "stream",
     "name": "stdout",
     "output_type": "stream",
     "text": [
      "+---+----+\n| id|name|\n+---+----+\n|  1|   A|\n|  2|   B|\n+---+----+\n\n"
     ]
    }
   ],
   "source": [
    "#Filter between a date range\n",
    "\n",
    "start_date='2017-01-01'\n",
    "end_date='2023-12-31'\n",
    "\n",
    "start_date_expr=to_date(lit(start_date))\n",
    "end_date_expr=to_date(lit(end_date))\n",
    "\n",
    "df_filtered=df_date04.filter(\n",
    "    (col('date').isNotNull()) &\n",
    "    (col('date')>=start_date_expr) &\n",
    "    (col('date')<=end_date_expr)\n",
    ")\n",
    "\n",
    "df_filtered.select('id','name').show()\n",
    "\n",
    "''' lit() is Necessary:\n",
    "Column Operations: PySpark DataFrames operate with column expressions, so any value used in operations needs to be wrapped as a column.\n",
    "Consistent Data Types: Using lit() ensures that constant values are treated as columns with appropriate data types, allowing them to be used correctly in expressions and comparisons.\n",
    "'''"
   ]
  },
  {
   "cell_type": "code",
   "execution_count": 0,
   "metadata": {
    "application/vnd.databricks.v1+cell": {
     "cellMetadata": {
      "byteLimit": 2048000,
      "rowLimit": 10000
     },
     "inputWidgets": {},
     "nuid": "86c09ebd-f203-4843-a8b0-1b62043a22ff",
     "showTitle": false,
     "title": ""
    }
   },
   "outputs": [
    {
     "output_type": "stream",
     "name": "stdout",
     "output_type": "stream",
     "text": [
      "+---+----+----------+----------+-----+------+----+---------+\n| id|name|      date|Today_date|Years|Months|Days|    Exact|\n+---+----+----------+----------+-----+------+----+---------+\n|  1|   A|2023-01-17|2024-09-19|    1|     8|   6| 1Y_8M_6D|\n|  2|   B|2021-09-28|2024-09-19|    3|     0|   8| 3Y_0M_8D|\n|  3|   C|2016-12-05|2024-09-19|    8|     6|  15|8Y_6M_15D|\n+---+----+----------+----------+-----+------+----+---------+\n\n"
     ]
    }
   ],
   "source": [
    "df_date04.show()"
   ]
  },
  {
   "cell_type": "code",
   "execution_count": 0,
   "metadata": {
    "application/vnd.databricks.v1+cell": {
     "cellMetadata": {
      "byteLimit": 2048000,
      "rowLimit": 10000
     },
     "inputWidgets": {},
     "nuid": "ebde9339-9ff7-40ce-b2fe-e2ade0fb0445",
     "showTitle": false,
     "title": ""
    }
   },
   "outputs": [
    {
     "output_type": "stream",
     "name": "stdout",
     "output_type": "stream",
     "text": [
      "+-----------------+\n|date_add(date, 1)|\n+-----------------+\n|       2023-01-18|\n|       2021-09-29|\n|       2016-12-06|\n+-----------------+\n\n+------------------+\n|date_sub(date, 10)|\n+------------------+\n|        2023-01-07|\n|        2021-09-18|\n|        2016-11-25|\n+------------------+\n\n+-------------------+\n|add_months(date, 1)|\n+-------------------+\n|         2023-02-17|\n|         2021-10-28|\n|         2017-01-05|\n+-------------------+\n\n"
     ]
    }
   ],
   "source": [
    "df_date04.select(date_add(col('date'),1)).show()\n",
    "df_date04.select(date_sub(col('date'),10)).show()\n",
    "df_date04.select(add_months(col('date'),1)).show()"
   ]
  },
  {
   "cell_type": "code",
   "execution_count": 0,
   "metadata": {
    "application/vnd.databricks.v1+cell": {
     "cellMetadata": {},
     "inputWidgets": {},
     "nuid": "e519164b-7eed-4c43-8942-1042a29bcb2a",
     "showTitle": false,
     "title": ""
    }
   },
   "outputs": [],
   "source": []
  }
 ],
 "metadata": {
  "application/vnd.databricks.v1+notebook": {
   "dashboards": [],
   "environmentMetadata": null,
   "language": "python",
   "notebookMetadata": {
    "pythonIndentUnit": 4
   },
   "notebookName": "PySpark Null Value Handling + Date Functions",
   "widgets": {}
  }
 },
 "nbformat": 4,
 "nbformat_minor": 0
}
